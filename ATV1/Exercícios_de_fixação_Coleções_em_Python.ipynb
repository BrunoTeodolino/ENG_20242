{
  "nbformat": 4,
  "nbformat_minor": 0,
  "metadata": {
    "colab": {
      "provenance": [],
      "authorship_tag": "ABX9TyO0Mhe+z4ia9VjWUNreufWY",
      "include_colab_link": true
    },
    "kernelspec": {
      "name": "python3",
      "display_name": "Python 3"
    },
    "language_info": {
      "name": "python"
    }
  },
  "cells": [
    {
      "cell_type": "markdown",
      "metadata": {
        "id": "view-in-github",
        "colab_type": "text"
      },
      "source": [
        "<a href=\"https://colab.research.google.com/github/BrunoTeodolino/ENG_20242/blob/main/ATV1/Exerc%C3%ADcios_de_fixa%C3%A7%C3%A3o_Cole%C3%A7%C3%B5es_em_Python.ipynb\" target=\"_parent\"><img src=\"https://colab.research.google.com/assets/colab-badge.svg\" alt=\"Open In Colab\"/></a>"
      ]
    },
    {
      "cell_type": "code",
      "execution_count": 1,
      "metadata": {
        "id": "kXwwTvPZNwBY",
        "colab": {
          "base_uri": "https://localhost:8080/"
        },
        "outputId": "c5f4ae3c-a55f-422c-e793-9f69fd4d446c"
      },
      "outputs": [
        {
          "output_type": "stream",
          "name": "stdout",
          "text": [
            "2\n",
            "4\n",
            "6\n",
            "8\n",
            "10\n"
          ]
        }
      ],
      "source": [
        "#1. Crie uma lista contendo cinco números inteiros de sua escolha. Em seguida, percorra essa lista e imprima o valor de cada elemento multiplicado por 2. O resultado deve mostrar o novo valor de cada elemento, um por vez.\n",
        "\n",
        "lista = [1,2,3,4,5]\n",
        "for numero in lista:\n",
        "    print(numero * 2)\n",
        ""
      ]
    },
    {
      "cell_type": "code",
      "source": [
        "#2. Dada a lista [\"maçã\", \"banana\", \"laranja\", \"uva\"], remova o item \"banana\" da lista e adicione a fruta \"melancia\" no lugar. Depois, mostre a nova lista atualizada com as alterações feitas.\n",
        "\n",
        "frutas = [\"maçã\", \"banana\", \"laranja\", \"uva\"]\n",
        "frutas[frutas.index('banana')] = 'melancia'\n",
        "print(frutas)\n"
      ],
      "metadata": {
        "id": "qhv75dFLN5Og",
        "colab": {
          "base_uri": "https://localhost:8080/"
        },
        "outputId": "8b2bf188-1c2d-477e-8907-46db1700f727"
      },
      "execution_count": 2,
      "outputs": [
        {
          "output_type": "stream",
          "name": "stdout",
          "text": [
            "['maçã', 'melancia', 'laranja', 'uva']\n"
          ]
        }
      ]
    },
    {
      "cell_type": "code",
      "source": [
        "#3. Escreva um programa que receba uma lista de números inteiros e exiba qual é o maior número e qual é o menor número presente na lista. Certifique-se de mostrar ambos os valores ao final.\n",
        "\n",
        "lista = [5,8,12,4,16,9]\n",
        "print(f'o maior numero é {max(lista)}', f'o menor numero é {min(lista)}')"
      ],
      "metadata": {
        "id": "h_oN7SotN6WH",
        "colab": {
          "base_uri": "https://localhost:8080/"
        },
        "outputId": "66a200aa-e5c0-4e98-dae1-f4832e31d314"
      },
      "execution_count": 5,
      "outputs": [
        {
          "output_type": "stream",
          "name": "stdout",
          "text": [
            "o maior numero é 16 o menor numero é 4\n"
          ]
        }
      ]
    },
    {
      "cell_type": "code",
      "source": [
        "#4. Crie uma função que receba uma lista contendo várias palavras (strings). A função deve devolver uma nova lista que contenha a quantidade de letras de cada palavra da lista original. Exiba essa nova lista com o número de letras correspondente a cada palavra.\n",
        "\n",
        "lista = [\"maçã\", \"banana\", \"laranja\", \"uva\"]\n",
        "nova_lista = []\n",
        "for palavra in lista:\n",
        "    nova_lista.append(len(palavra))\n",
        "print(nova_lista)"
      ],
      "metadata": {
        "id": "pdG1mytJN-qH",
        "colab": {
          "base_uri": "https://localhost:8080/"
        },
        "outputId": "a38d8c8a-c98a-47af-c216-e29e73a34c4f"
      },
      "execution_count": 11,
      "outputs": [
        {
          "output_type": "stream",
          "name": "stdout",
          "text": [
            "[4, 6, 7, 3]\n"
          ]
        }
      ]
    },
    {
      "cell_type": "code",
      "source": [
        "#5. Dada uma lista de números inteiros que você vai definir, ordene essa lista em ordem crescente e depois exiba o resultado da lista ordenada.\n",
        "\n",
        "lista = [3,5,6,9,15,16,1,24,3]\n",
        "nova_lista = sorted(lista)\n",
        "print(nova_lista)\n"
      ],
      "metadata": {
        "id": "bqUPyGekOCqP",
        "colab": {
          "base_uri": "https://localhost:8080/"
        },
        "outputId": "22604189-b65b-4e82-d0e9-834471d33c2e"
      },
      "execution_count": 12,
      "outputs": [
        {
          "output_type": "stream",
          "name": "stdout",
          "text": [
            "[1, 3, 3, 5, 6, 9, 15, 16, 24]\n"
          ]
        }
      ]
    },
    {
      "cell_type": "code",
      "source": [
        "#6. Crie uma tupla que contenha os números de 1 a 5. Tente alterar o valor do segundo elemento dessa tupla e observe o que acontece. No final, explique por que você conseguiu ou não modificar o valor.\n",
        "\n",
        "tupla = (1,2,3,4,5)\n",
        "\n",
        "#as tuplas são imutaveis, por isso nao é possivel muda-las\n"
      ],
      "metadata": {
        "id": "SYrAauZ3OClf"
      },
      "execution_count": null,
      "outputs": []
    },
    {
      "cell_type": "code",
      "source": [
        "#7. Escreva um programa que receba uma tupla contendo diversos números inteiros. O programa deve calcular e exibir a soma de todos os números presentes na tupla.\n",
        "\n",
        "numeros = (1,-2,3,4,-5,6,-7,8)\n",
        "soma_numeros = sum(numeros)\n",
        "print(soma_numeros)"
      ],
      "metadata": {
        "id": "3jS8KN6XOB43",
        "colab": {
          "base_uri": "https://localhost:8080/"
        },
        "outputId": "3036aa2a-7116-41c9-bcae-5f21fba30b9e"
      },
      "execution_count": 14,
      "outputs": [
        {
          "output_type": "stream",
          "name": "stdout",
          "text": [
            "8\n"
          ]
        }
      ]
    },
    {
      "cell_type": "code",
      "source": [
        "#8. Dada uma tupla que contém cinco números, crie uma função que retorne o primeiro e o último número dessa tupla. O programa deve imprimir ambos os valores corretamente.\n",
        "\n",
        "numeros = (8,6,2,4,8,9,1,2,3)\n",
        "print(numeros[0], numeros[-1])"
      ],
      "metadata": {
        "id": "Sm1tf4S4OBzH",
        "colab": {
          "base_uri": "https://localhost:8080/"
        },
        "outputId": "3ff519fc-cee4-4667-a1ab-7bd2a1f3a7b1"
      },
      "execution_count": 17,
      "outputs": [
        {
          "output_type": "stream",
          "name": "stdout",
          "text": [
            "8 3\n"
          ]
        }
      ]
    },
    {
      "cell_type": "code",
      "source": [
        "#9. Converta a lista [\"a\", \"b\", \"c\", \"d\"] em uma tupla e, em seguida, exiba o tipo do novo objeto que foi criado. O programa deve deixar claro que o tipo mudou de lista para tupla.\n",
        "\n",
        "lista = [\"a\", \"b\", \"c\", \"d\"]\n",
        "tupla = tuple(lista)\n",
        "print(tupla)"
      ],
      "metadata": {
        "id": "ESpX7GGDOBsX",
        "colab": {
          "base_uri": "https://localhost:8080/"
        },
        "outputId": "d10d1ae8-93af-4b0f-9a7a-af941abf3b3c"
      },
      "execution_count": 20,
      "outputs": [
        {
          "output_type": "stream",
          "name": "stdout",
          "text": [
            "('a', 'b', 'c', 'd')\n"
          ]
        }
      ]
    },
    {
      "cell_type": "code",
      "source": [
        "#10. Crie uma tupla com três números inteiros e uma string. Depois, verifique se o número 3 está presente nessa tupla e mostre uma mensagem dizendo se o número foi encontrado ou não.\n",
        "\n",
        "numeros = (2,4,6)\n",
        "if 3 in numeros:\n",
        "    print('o numero 3 foi encontrado')\n",
        "else:\n",
        "    print('o numero 3 nao foi encontrado')"
      ],
      "metadata": {
        "id": "J0-faz0BOBlH",
        "colab": {
          "base_uri": "https://localhost:8080/"
        },
        "outputId": "5bc5252a-ea24-47a8-a8f4-3a0f430cf15f"
      },
      "execution_count": 18,
      "outputs": [
        {
          "output_type": "stream",
          "name": "stdout",
          "text": [
            "o numero 3 nao foi encontrado\n"
          ]
        }
      ]
    },
    {
      "cell_type": "code",
      "source": [
        "#11. Crie dois sets: set1 = {1, 2, 3, 4} e set2 = {3, 4, 5, 6}. Exiba a união dos dois sets (todos os elementos sem repetição), a interseção (elementos que aparecem nos dois sets) e a diferença (elementos presentes no primeiro set, mas não no segundo). Mostre os resultados de cada operação.\n",
        "\n",
        "set1 = {1, 2, 3, 4}\n",
        "set2 = {3, 4, 5, 6}\n",
        "uniao = set1.union(set2)\n",
        "inter = set1.intersection(set2)\n",
        "dif = set1.difference(set2)\n",
        "print(uniao, inter, dif)"
      ],
      "metadata": {
        "id": "YCPPMfKwOBbv",
        "colab": {
          "base_uri": "https://localhost:8080/"
        },
        "outputId": "4919a637-8d65-4f3b-b1e8-1d417f04e89a"
      },
      "execution_count": 23,
      "outputs": [
        {
          "output_type": "stream",
          "name": "stdout",
          "text": [
            "{1, 2, 3, 4, 5, 6} {3, 4} {1, 2}\n"
          ]
        }
      ]
    },
    {
      "cell_type": "code",
      "source": [
        "#12. Dada a lista [1, 2, 2, 3, 4, 4, 5], remova os elementos duplicados transformando a lista em um set. Ao final, exiba o set resultante, que deve conter apenas valores únicos.\n",
        "\n",
        "lista = [1, 2, 2, 3, 4, 4, 5]\n",
        "set1 = set(lista)\n",
        "print(set1)\n"
      ],
      "metadata": {
        "id": "Jk2FNhmaOdAa",
        "colab": {
          "base_uri": "https://localhost:8080/"
        },
        "outputId": "d013c11e-7b7e-46bd-c1f1-4527d426d741"
      },
      "execution_count": 22,
      "outputs": [
        {
          "output_type": "stream",
          "name": "stdout",
          "text": [
            "{1, 2, 3, 4, 5}\n"
          ]
        }
      ]
    },
    {
      "cell_type": "code",
      "source": [
        "#13. Crie um set contendo os valores {5, 10, 15, 20}. Adicione o número 25 a esse set e depois remova o valor 15. Mostre o set após cada alteração.\n",
        "\n",
        "set1 = {5, 10, 15, 20}\n",
        "set1.add(25)\n",
        "set1.remove(15)\n",
        "print(set1)"
      ],
      "metadata": {
        "id": "LanvN1BBOc9X",
        "colab": {
          "base_uri": "https://localhost:8080/"
        },
        "outputId": "d79c4638-59e9-4e36-dc28-0b91adfe824d"
      },
      "execution_count": 24,
      "outputs": [
        {
          "output_type": "stream",
          "name": "stdout",
          "text": [
            "{5, 10, 20, 25}\n"
          ]
        }
      ]
    },
    {
      "cell_type": "code",
      "source": [
        "#14. Verifique se o número 7 está presente no set {1, 2, 3, 4, 5}. O programa deve exibir uma mensagem informando se o número foi encontrado ou não no set.\n",
        "\n",
        "set1 = {1, 2, 3, 4, 5}\n",
        "if 7 in set1:\n",
        "    print('o numero 7 foi encontrado')\n",
        "else:\n",
        "    print('o numero 7 nao foi encontrado')\n"
      ],
      "metadata": {
        "id": "oJAKIUsZOcK3",
        "colab": {
          "base_uri": "https://localhost:8080/"
        },
        "outputId": "fe6e14ee-c22e-4d27-84dc-e8c1760ba21d"
      },
      "execution_count": 25,
      "outputs": [
        {
          "output_type": "stream",
          "name": "stdout",
          "text": [
            "o numero 7 nao foi encontrado\n"
          ]
        }
      ]
    },
    {
      "cell_type": "code",
      "source": [
        "#15. Crie um set vazio e adicione vários valores a ele usando um laço de repetição (por exemplo, um for ou while). No final, mostre todos os valores armazenados no set.\n",
        "\n",
        "set1 = set()\n",
        "for i in range(10):\n",
        "    set1.add(i)\n",
        "print(set1)"
      ],
      "metadata": {
        "id": "-qUZ55bGOcF_",
        "colab": {
          "base_uri": "https://localhost:8080/"
        },
        "outputId": "df12c2f6-6b54-4d38-9959-b02c4f5b5af5"
      },
      "execution_count": 26,
      "outputs": [
        {
          "output_type": "stream",
          "name": "stdout",
          "text": [
            "{0, 1, 2, 3, 4, 5, 6, 7, 8, 9}\n"
          ]
        }
      ]
    },
    {
      "cell_type": "code",
      "source": [
        "#16. Crie um dicionário com os pares chave-valor 'nome': 'Ana', 'idade': 22, 'curso': 'Engenharia'. Adicione uma nova chave 'universidade': 'USP' ao dicionário. Em seguida, exiba o dicionário completo com todas as informações.\n",
        "\n",
        "dicionario = {'nome': 'Bruno', 'idade': 22, 'curso': 'Engenharia'}\n",
        "dicionario['universidade'] = 'UVV'\n",
        "print(dicionario)"
      ],
      "metadata": {
        "id": "IC8k9MujOcDX",
        "colab": {
          "base_uri": "https://localhost:8080/"
        },
        "outputId": "903798dc-714d-4bc0-920e-325d2af48cf2"
      },
      "execution_count": 27,
      "outputs": [
        {
          "output_type": "stream",
          "name": "stdout",
          "text": [
            "{'nome': 'Bruno', 'idade': 22, 'curso': 'Engenharia', 'universidade': 'UVV'}\n"
          ]
        }
      ]
    },
    {
      "cell_type": "code",
      "source": [
        "#17. Escreva um programa que percorra um dicionário com várias chaves e valores. Para cada par, imprima a chave e o valor no formato: Chave: X, Valor: Y. O dicionário pode conter qualquer informação que você preferir.\n",
        "\n",
        "dicionario = {'nome': 'Bruno', 'idade': 22, 'curso': 'Engenharia'}\n",
        "for chave, valor in dicionario.items():\n",
        "    print(f'chave: {chave}, valor: {valor}')"
      ],
      "metadata": {
        "id": "nMP7D02eOcA5",
        "colab": {
          "base_uri": "https://localhost:8080/"
        },
        "outputId": "fb0e1b74-868c-413b-c376-d8445ac7c734"
      },
      "execution_count": 28,
      "outputs": [
        {
          "output_type": "stream",
          "name": "stdout",
          "text": [
            "chave: nome, valor: Bruno\n",
            "chave: idade, valor: 22\n",
            "chave: curso, valor: Engenharia\n"
          ]
        }
      ]
    },
    {
      "cell_type": "code",
      "source": [
        "#18. Crie um dicionário que relacione nomes de alunos às suas notas. Depois, crie uma função que calcule e exiba a média das notas desses alunos com base nas informações do dicionário.\n",
        "\n",
        "notas = {\n",
        "    \"Bruno\" : [10,10,10]\n",
        "    ,\"Fabio\" : [7,8,6]\n",
        "    ,\"Lucas\" : [9,5,6]\n",
        "}\n",
        "\n",
        "media = {}\n",
        "for alunos, notas in notas.items():\n",
        "    media[alunos] = sum(notas)/len(notas)\n",
        "print(media)\n",
        "\n"
      ],
      "metadata": {
        "id": "9ua6ADHxOb-I",
        "colab": {
          "base_uri": "https://localhost:8080/"
        },
        "outputId": "9eae42fc-9601-4d8d-ac8d-1cc84e1480c6"
      },
      "execution_count": 32,
      "outputs": [
        {
          "output_type": "stream",
          "name": "stdout",
          "text": [
            "{'Bruno': 10.0, 'Fabio': 7.0, 'Lucas': 6.666666666666667}\n"
          ]
        }
      ]
    },
    {
      "cell_type": "code",
      "source": [
        "#19. Escreva um programa que permita ao usuário buscar o valor de uma chave específica em um dicionário. Caso a chave não exista, o programa deve exibir uma mensagem dizendo que a chave não foi encontrada. Teste o programa com diferentes chaves.\n",
        "\n",
        "dic1 = {'nome': 'Bruno', 'idade': 22, 'curso': 'Engenharia'}\n",
        "chave = input('digite a chave que deseja buscar: ')\n",
        "if chave in dic1:\n",
        "    print(dic1[chave])\n",
        "else:\n",
        "    print('chave nao encontrada')"
      ],
      "metadata": {
        "id": "iSNFBtdgOb4g",
        "colab": {
          "base_uri": "https://localhost:8080/"
        },
        "outputId": "d08f70e2-689c-4d7a-998e-02959f95e40e"
      },
      "execution_count": 39,
      "outputs": [
        {
          "output_type": "stream",
          "name": "stdout",
          "text": [
            "digite a chave que deseja buscar: dic1\n",
            "chave nao encontrada\n"
          ]
        }
      ]
    },
    {
      "cell_type": "code",
      "source": [
        "#20. Dado um dicionário que contém produtos e seus respectivos preços, como {'pão': 2.50, 'leite': 3.00, 'café': 4.50}, permita que o usuário altere o preço de um dos produtos e exiba o dicionário atualizado com o novo valor.\n",
        "\n",
        "preços_produtos = {'pão': 2.50, 'leite': 3.00, 'café': 4.50}\n",
        "produto = input('digite o produto que deseja alterar o preço:')\n",
        "novo_preco = float(input('digite o novo preço do produto:'))\n",
        "preços_produtos[produto] = novo_preco\n",
        "print(preços_produtos)\n"
      ],
      "metadata": {
        "id": "4McByiBTOtAq",
        "colab": {
          "base_uri": "https://localhost:8080/"
        },
        "outputId": "76dfffa1-f5c3-4013-a54d-85b702cdd910"
      },
      "execution_count": 47,
      "outputs": [
        {
          "output_type": "stream",
          "name": "stdout",
          "text": [
            "digite o produto que deseja alterar o preço:café\n",
            "digite o novo preço do produto:5\n",
            "{'pão': 2.5, 'leite': 3.0, 'café': 5.0}\n"
          ]
        }
      ]
    }
  ]
}
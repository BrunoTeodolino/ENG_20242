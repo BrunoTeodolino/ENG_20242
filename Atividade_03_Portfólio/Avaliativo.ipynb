{
  "nbformat": 4,
  "nbformat_minor": 0,
  "metadata": {
    "colab": {
      "provenance": [],
      "authorship_tag": "ABX9TyMYzu4Y1G67lkgggZX8pRFe",
      "include_colab_link": true
    },
    "kernelspec": {
      "name": "python3",
      "display_name": "Python 3"
    },
    "language_info": {
      "name": "python"
    }
  },
  "cells": [
    {
      "cell_type": "markdown",
      "metadata": {
        "id": "view-in-github",
        "colab_type": "text"
      },
      "source": [
        "<a href=\"https://colab.research.google.com/github/BrunoTeodolino/ENG_20242/blob/main/Atividade_03_Portf%C3%B3lio/Avaliativo.ipynb\" target=\"_parent\"><img src=\"https://colab.research.google.com/assets/colab-badge.svg\" alt=\"Open In Colab\"/></a>"
      ]
    },
    {
      "cell_type": "code",
      "execution_count": null,
      "metadata": {
        "colab": {
          "base_uri": "https://localhost:8080/"
        },
        "id": "OvNCFJG5EZ4_",
        "outputId": "ff65fd40-db00-440b-e677-f93e20415422"
      },
      "outputs": [
        {
          "output_type": "stream",
          "name": "stdout",
          "text": [
            "[1, 4, 9, 16, 25]\n"
          ]
        }
      ],
      "source": [
        "#1 Dada uma lista de números inteiros, use uma função lambda para retornar uma lista com o quadrado de cada número.\n",
        "\n",
        "numeros = [1,2,3,4,5]\n",
        "quadrados = list(map(lambda x: x**2, numeros))\n",
        "print(quadrados)"
      ]
    },
    {
      "cell_type": "code",
      "source": [
        "#2 Dada uma lista de temperaturas em Celsius, use uma função lambda para convertê-las em Fahrenheit.\n",
        "\n",
        "temperatura = [10,20,25,30,35,40]\n",
        "converter = list(map(lambda x: (x*9/5)+32, temperatura))\n",
        "print(converter)"
      ],
      "metadata": {
        "colab": {
          "base_uri": "https://localhost:8080/"
        },
        "id": "_1D6Rbr3Nk3R",
        "outputId": "9080549b-3b39-498c-e443-69f2997cf8fb"
      },
      "execution_count": null,
      "outputs": [
        {
          "output_type": "stream",
          "name": "stdout",
          "text": [
            "[50.0, 68.0, 77.0, 86.0, 95.0, 104.0]\n"
          ]
        }
      ]
    },
    {
      "cell_type": "code",
      "source": [
        "#3 Dada uma lista de palavras, use uma função lambda para retornar uma lista com o comprimento de cada palavra.\n",
        "\n",
        "palavras =  ['casa' , 'arvore' , 'rio', 'mouse' , 'livro']\n",
        "comprimento =  lambda palavra: [len(palavra) for palavra in palavras]\n",
        "resposta = comprimento(palavras)\n",
        "print(resposta)\n"
      ],
      "metadata": {
        "colab": {
          "base_uri": "https://localhost:8080/"
        },
        "id": "mLzbpLybPERI",
        "outputId": "61706479-0931-42e0-ef4d-c997298ccc65"
      },
      "execution_count": null,
      "outputs": [
        {
          "output_type": "stream",
          "name": "stdout",
          "text": [
            "[4, 6, 3, 5, 5]\n"
          ]
        }
      ]
    },
    {
      "cell_type": "code",
      "source": [
        "#4 Use uma função lambda para dobrar os valores de uma lista de inteiros.\n",
        "\n",
        "lista = [1,2,3,4,5,6,7,8,9]\n",
        "dobro = list(map(lambda x: x*2, lista))\n",
        "print(dobro)"
      ],
      "metadata": {
        "colab": {
          "base_uri": "https://localhost:8080/"
        },
        "id": "LNAXcRyqRPd1",
        "outputId": "8ba336cd-70da-4feb-bd3e-930aad655843"
      },
      "execution_count": null,
      "outputs": [
        {
          "output_type": "stream",
          "name": "stdout",
          "text": [
            "[2, 4, 6, 8, 10, 12, 14, 16, 18]\n"
          ]
        }
      ]
    },
    {
      "cell_type": "code",
      "source": [
        "#5 Dada uma lista de nomes, use uma função lambda para adicionar o prefixo \"Sr./Sra.\" antes de cada nome.\n",
        "\n",
        "nomes = ['Cleiton', 'Eduardo', 'Geoberto' , 'Cesarini' , 'Shakelle']\n",
        "ajuste =  list(map(lambda x: \"Sr./Sra. \" + x , nomes))\n",
        "print(ajuste)\n"
      ],
      "metadata": {
        "colab": {
          "base_uri": "https://localhost:8080/"
        },
        "id": "ANICUsRQR1dr",
        "outputId": "305c739e-8e99-4eb8-b979-74d3864e88ee"
      },
      "execution_count": null,
      "outputs": [
        {
          "output_type": "stream",
          "name": "stdout",
          "text": [
            "['Sr./Sra. Cleiton', 'Sr./Sra. Eduardo', 'Sr./Sra. Geoberto', 'Sr./Sra. Cesarini', 'Sr./Sra. Shakelle']\n"
          ]
        }
      ]
    },
    {
      "cell_type": "code",
      "source": [
        "#6 Dada uma lista de números, use uma função lambda para retornar apenas os números pares.\n",
        "\n",
        "numeros = [1,2,3,4,5,6,7,8,9,10]\n",
        "pares = list(filter(lambda x : x % 2 == 0 , numeros))\n",
        "print(pares)"
      ],
      "metadata": {
        "colab": {
          "base_uri": "https://localhost:8080/"
        },
        "id": "oQo6kmepTy_u",
        "outputId": "08796f10-8e6a-4765-bb5e-654b689c1730"
      },
      "execution_count": null,
      "outputs": [
        {
          "output_type": "stream",
          "name": "stdout",
          "text": [
            "[2, 4, 6, 8, 10]\n"
          ]
        }
      ]
    },
    {
      "cell_type": "markdown",
      "source": [
        "A função filter() recebe uma função e uma lista como argumentos e retorna uma nova lista contendo apenas os elementos da lista original para os quais a função retorna True."
      ],
      "metadata": {
        "id": "HeHQjANyXR3y"
      }
    },
    {
      "cell_type": "code",
      "source": [
        "#7 Dada uma lista de palavras, use uma função lambda para retornar apenas as palavras com menos de 5 caracteres.\n",
        "\n",
        "palavras = ['casa' , 'arvore' , 'rio', 'mouse' , 'livros']\n",
        "caracteres = list(filter(lambda x: len(x) < 5, palavras))\n",
        "print(caracteres)"
      ],
      "metadata": {
        "colab": {
          "base_uri": "https://localhost:8080/"
        },
        "id": "QPTyjYaHXTCz",
        "outputId": "da9b07ef-71f9-4c60-aed5-3c8a73431235"
      },
      "execution_count": null,
      "outputs": [
        {
          "output_type": "stream",
          "name": "stdout",
          "text": [
            "['casa', 'rio']\n"
          ]
        }
      ]
    },
    {
      "cell_type": "code",
      "source": [
        "#8 Dada uma lista de idades, use uma função lambda para retornar apenas as idades maiores que 18.\n",
        "\n",
        "idades = [3,15,62,53,42,19,20,65,14]\n",
        "maiores = list(filter(lambda x: x > 18, idades))\n",
        "print(maiores)"
      ],
      "metadata": {
        "colab": {
          "base_uri": "https://localhost:8080/"
        },
        "id": "0v3rwpt8acA6",
        "outputId": "b2203dd7-e4ac-412a-d11e-e3f1f3fe26bc"
      },
      "execution_count": null,
      "outputs": [
        {
          "output_type": "stream",
          "name": "stdout",
          "text": [
            "[62, 53, 42, 19, 20, 65]\n"
          ]
        }
      ]
    },
    {
      "cell_type": "code",
      "source": [
        "#9 Dada uma lista de strings, use uma função lambda para retornar as strings que começam com a letra \"a\".\n",
        "\n",
        "lista = ['casa' , 'arvore' , 'rio', 'mouse' , 'livros' , 'agua']\n",
        "a = list(filter(lambda x: x.startswith(\"a\"), lista))\n",
        "print(a)"
      ],
      "metadata": {
        "colab": {
          "base_uri": "https://localhost:8080/"
        },
        "id": "kSDq30F4bycV",
        "outputId": "f8d98575-3b76-47f0-e296-dcae3fefd3da"
      },
      "execution_count": null,
      "outputs": [
        {
          "output_type": "stream",
          "name": "stdout",
          "text": [
            "['arvore', 'agua']\n"
          ]
        }
      ]
    },
    {
      "cell_type": "code",
      "source": [
        "#10 Dada uma lista de números inteiros, use uma função lambda para retornar apenas os números positivos.\n",
        "\n",
        "lista = [-5,-4,-3,-2,-1,0,1,2,3,4,5]\n",
        "positivos = list(filter(lambda x: x > 0, lista))\n",
        "print(positivos)"
      ],
      "metadata": {
        "colab": {
          "base_uri": "https://localhost:8080/"
        },
        "id": "RlMTfCKkegny",
        "outputId": "ec1f6ceb-ee41-48a1-8a9e-a5cb5242ab5a"
      },
      "execution_count": null,
      "outputs": [
        {
          "output_type": "stream",
          "name": "stdout",
          "text": [
            "[1, 2, 3, 4, 5]\n"
          ]
        }
      ]
    },
    {
      "cell_type": "code",
      "source": [
        "#11 Use uma função lambda para calcular a soma de uma lista de números.\n",
        "\n",
        "from functools import reduce\n",
        "\n",
        "lista = [1,2,3,4,5,6,7,8,9]\n",
        "soma = reduce(lambda x, y: x + y, lista)\n",
        "print(soma)"
      ],
      "metadata": {
        "colab": {
          "base_uri": "https://localhost:8080/"
        },
        "id": "qc8KtkV4iA6k",
        "outputId": "1646718e-fffd-46aa-bfd4-139661ae9b57"
      },
      "execution_count": null,
      "outputs": [
        {
          "output_type": "stream",
          "name": "stdout",
          "text": [
            "45\n"
          ]
        }
      ]
    },
    {
      "cell_type": "code",
      "source": [
        "#12 Use uma função lambda para multiplicar todos os elementos de uma lista.\n",
        "\n",
        "from functools import reduce\n",
        "\n",
        "lista = [1,2,3,4,5]\n",
        "multiplicaçao = reduce(lambda x, y: x*y, lista)\n",
        "print(multiplicaçao)"
      ],
      "metadata": {
        "colab": {
          "base_uri": "https://localhost:8080/"
        },
        "id": "-k1DzaqJkO2I",
        "outputId": "9e80875b-a540-4d5c-ba57-5f24ffffe8de"
      },
      "execution_count": null,
      "outputs": [
        {
          "output_type": "stream",
          "name": "stdout",
          "text": [
            "120\n"
          ]
        }
      ]
    },
    {
      "cell_type": "code",
      "source": [
        "#13 Use uma função lambda para encontrar o maior número em uma lista.\n",
        "\n",
        "from functools import reduce\n",
        "\n",
        "lista = [1,2,3,4,5,6,7,8,9]\n",
        "maior = reduce(lambda x, y: x if x > y else y, lista)\n",
        "print(maior)"
      ],
      "metadata": {
        "colab": {
          "base_uri": "https://localhost:8080/"
        },
        "id": "POy_zFERk3I9",
        "outputId": "9d066af6-5a84-4b94-cb9c-40c1f2c3db47"
      },
      "execution_count": null,
      "outputs": [
        {
          "output_type": "stream",
          "name": "stdout",
          "text": [
            "9\n"
          ]
        }
      ]
    },
    {
      "cell_type": "code",
      "source": [
        "#14 Use uma função lambda para concatenar uma lista de palavras em uma única string separada por espaços.\n",
        "\n",
        "lista = [\"Gustavo,\" , \"me\" , \"passa\" , \"em\" , \"programação.\" , \"Pls :)\"]\n",
        "resposta = (lambda x: \" \".join(x))(lista)\n",
        "print(resposta)\n"
      ],
      "metadata": {
        "colab": {
          "base_uri": "https://localhost:8080/"
        },
        "id": "Fspb_gUdmFzf",
        "outputId": "c7627ee0-847a-4ca6-f27d-615d386489e7"
      },
      "execution_count": null,
      "outputs": [
        {
          "output_type": "stream",
          "name": "stdout",
          "text": [
            "Gustavo, me passa em programação. Pls :)\n"
          ]
        }
      ]
    },
    {
      "cell_type": "code",
      "source": [
        "#15 Use uma função lambda para somar os dígitos de uma lista de inteiros, onde cada número é tratado individualmente.\n",
        "\n",
        "from functools import reduce\n",
        "\n",
        "lista = [1,2,3,4,5,6,7,8,9]\n",
        "soma = reduce(lambda x, y: x+y, lista)\n",
        "print(soma)"
      ],
      "metadata": {
        "colab": {
          "base_uri": "https://localhost:8080/"
        },
        "id": "J_j7zSJbowwQ",
        "outputId": "de51d932-619b-4112-ec87-7fe890a5197b"
      },
      "execution_count": null,
      "outputs": [
        {
          "output_type": "stream",
          "name": "stdout",
          "text": [
            "45\n"
          ]
        }
      ]
    },
    {
      "cell_type": "code",
      "source": [
        "#16 Use uma função lambda para dobrar os números de uma lista e retornar apenas os números que são maiores que 20.\n",
        "\n",
        "lista = [1,5,8,12,15,18,20,25,29,31,35]\n",
        "dobro = list(filter(lambda x: x*2 > 20, lista))\n",
        "print(dobro)"
      ],
      "metadata": {
        "colab": {
          "base_uri": "https://localhost:8080/"
        },
        "id": "1SUYBzy2rIUY",
        "outputId": "fe97bc47-a415-46f3-d6c5-852d900c0647"
      },
      "execution_count": null,
      "outputs": [
        {
          "output_type": "stream",
          "name": "stdout",
          "text": [
            "[12, 15, 18, 20, 25, 29, 31, 35]\n"
          ]
        }
      ]
    },
    {
      "cell_type": "code",
      "source": [
        "#17 Dada uma lista de palavras, use uma função lambda para encontrar todas as palavras que contêm a letra \"e\" e conte quantas são.\n",
        "\n",
        "lista = ['casa' , \"escola\" , \"elefante\" , \"pedra\"]\n",
        "encontre = list(filter(lambda x: 'e' in x ,lista))\n",
        "print(encontre)\n",
        "print(len(encontre))"
      ],
      "metadata": {
        "colab": {
          "base_uri": "https://localhost:8080/"
        },
        "id": "BnEzIRHmstVT",
        "outputId": "37f7c0bc-92c3-46f2-b122-84418649429c"
      },
      "execution_count": null,
      "outputs": [
        {
          "output_type": "stream",
          "name": "stdout",
          "text": [
            "['escola', 'elefante', 'pedra']\n",
            "3\n"
          ]
        }
      ]
    },
    {
      "cell_type": "code",
      "source": [
        "#18 Converta uma lista de temperaturas de Fahrenheit para Celsius usando uma função lambda e, em seguida, retorne apenas as temperaturas abaixo de 20°C.\n",
        "\n",
        "lista = [50.0, 68.0, 77.0, 86.0, 95.0, 104.0]\n",
        "celsius = list(map(lambda x: (x-32) * 5/9 , lista ))\n",
        "print(celsius)\n",
        "menores_20 = list(filter(lambda x: x < 20, celsius))\n",
        "print(menores_20)"
      ],
      "metadata": {
        "colab": {
          "base_uri": "https://localhost:8080/"
        },
        "id": "9FrMXfpxtYFq",
        "outputId": "51f6c4cb-73b6-437a-c0a8-d4b3b96a3cd5"
      },
      "execution_count": null,
      "outputs": [
        {
          "output_type": "stream",
          "name": "stdout",
          "text": [
            "[10.0, 20.0, 25.0, 30.0, 35.0, 40.0]\n",
            "[10.0]\n"
          ]
        }
      ]
    },
    {
      "cell_type": "code",
      "source": [
        "#19 Use uma função lambda para selecionar apenas os números pares de uma lista e, em seguida, somar esses números.\n",
        "\n",
        "from functools import reduce\n",
        "\n",
        "lista = [1,2,3,4,5,6,7,8,9]\n",
        "pares = list(filter(lambda x: x % 2 == 0, lista))\n",
        "print(pares)\n",
        "soma = reduce(lambda x, y: x+y, pares)\n",
        "print(soma)"
      ],
      "metadata": {
        "colab": {
          "base_uri": "https://localhost:8080/"
        },
        "id": "LvSdkErXytUb",
        "outputId": "67c3dcec-178a-4cec-f9fd-afdf3507003b"
      },
      "execution_count": null,
      "outputs": [
        {
          "output_type": "stream",
          "name": "stdout",
          "text": [
            "[2, 4, 6, 8]\n",
            "20\n"
          ]
        }
      ]
    },
    {
      "cell_type": "code",
      "source": [
        "#20 Use uma função lambda para substituir números negativos de uma lista por 0 e manter os positivos.\n",
        "lista = [-3,-2,-1,0,1,2,3]\n",
        "correçao = list(map(lambda x: 0 if x < 0 else x, lista))\n",
        "print(correçao)"
      ],
      "metadata": {
        "colab": {
          "base_uri": "https://localhost:8080/"
        },
        "id": "lXzK80Lx0nsu",
        "outputId": "3e9c3b3d-ea12-4fbf-9ff3-897e2c49043c"
      },
      "execution_count": null,
      "outputs": [
        {
          "output_type": "stream",
          "name": "stdout",
          "text": [
            "[0, 0, 0, 0, 1, 2, 3]\n"
          ]
        }
      ]
    },
    {
      "cell_type": "code",
      "source": [
        "#21 Use uma função lambda para retornar a lista de cubos de cada elemento em uma lista de números.\n",
        "\n",
        "lista = [1,2,3,4,5,6,7]\n",
        "cubos = list(map(lambda x: x**3, lista))\n",
        "print(cubos)"
      ],
      "metadata": {
        "colab": {
          "base_uri": "https://localhost:8080/"
        },
        "id": "Jp-90CpXuzev",
        "outputId": "45104a42-b38c-4026-8fcf-982a5d5cabd6"
      },
      "execution_count": null,
      "outputs": [
        {
          "output_type": "stream",
          "name": "stdout",
          "text": [
            "[1, 8, 27, 64, 125, 216, 343]\n"
          ]
        }
      ]
    },
    {
      "cell_type": "code",
      "source": [
        "#22 Use uma função lambda para verificar se um número dado é primo (retornando True ou False).\n",
        "\n",
        "lista = [1,2,3,4,5,6,7,8,9,10,11,12,13]\n",
        "primo = list(map(lambda x: x > 1 and all(x % i for i in range(2, int(x**0.5) + 1)),lista))\n",
        "print(primo)"
      ],
      "metadata": {
        "colab": {
          "base_uri": "https://localhost:8080/"
        },
        "id": "1hvRpsRrxblK",
        "outputId": "854da824-3c15-466a-81eb-21e67d6e6834"
      },
      "execution_count": null,
      "outputs": [
        {
          "output_type": "stream",
          "name": "stdout",
          "text": [
            "[False, True, True, False, True, False, True, False, False, False, True, False, True]\n"
          ]
        }
      ]
    },
    {
      "cell_type": "code",
      "source": [
        "#23 Use uma função lambda para dividir cada elemento de uma lista por 5 e retornar a nova lista.\n",
        "\n",
        "lista = [1,2,3,4,5,6,7,8,9,10]\n",
        "divisao = list(map(lambda x: x / 5, lista))\n",
        "print(divisao)"
      ],
      "metadata": {
        "colab": {
          "base_uri": "https://localhost:8080/"
        },
        "id": "IjJf3vI3-vGP",
        "outputId": "06817758-d267-45ec-a6bf-9fc00b3abe85"
      },
      "execution_count": null,
      "outputs": [
        {
          "output_type": "stream",
          "name": "stdout",
          "text": [
            "[0.2, 0.4, 0.6, 0.8, 1.0, 1.2, 1.4, 1.6, 1.8, 2.0]\n"
          ]
        }
      ]
    },
    {
      "cell_type": "code",
      "source": [
        "#24 Use uma função lambda para remover todas as vogais de uma string dada.\n",
        "\n",
        "string = \"paralelepipedo\"\n",
        "vogais = \"aeiou\"\n",
        "remove_vogais = lambda texto: \"\".join([letra for letra in texto if letra not in vogais])\n",
        "resultado = remove_vogais(string)\n",
        "print(resultado)"
      ],
      "metadata": {
        "colab": {
          "base_uri": "https://localhost:8080/"
        },
        "collapsed": true,
        "id": "qhpLW9RzVmHA",
        "outputId": "bde83c6f-e57d-4c3c-d982-1924ad108b4f"
      },
      "execution_count": 5,
      "outputs": [
        {
          "output_type": "stream",
          "name": "stdout",
          "text": [
            "prllppd\n"
          ]
        }
      ]
    },
    {
      "cell_type": "code",
      "source": [
        "#25 Use uma função lambda para converter todas as palavras em uma lista para letras maiúsculas.\n",
        "\n",
        "lista = ['casa' , 'arvore' , 'rio', 'mouse' , 'livros' , 'agua']\n",
        "upper = list(map(lambda x: x.upper(), lista))\n",
        "print(upper)"
      ],
      "metadata": {
        "colab": {
          "base_uri": "https://localhost:8080/"
        },
        "id": "synQ6T63XpVn",
        "outputId": "c130fe14-dcc7-48dc-b303-7bd5b119dfdc"
      },
      "execution_count": null,
      "outputs": [
        {
          "output_type": "stream",
          "name": "stdout",
          "text": [
            "['CASA', 'ARVORE', 'RIO', 'MOUSE', 'LIVROS', 'AGUA']\n"
          ]
        }
      ]
    },
    {
      "cell_type": "code",
      "source": [
        "#26 Use uma função lambda para retornar apenas os números negativos de uma lista de inteiros.\n",
        "\n",
        "lista = [-5, -4, -3, -2, -1, 0, 1, 2, 3, 4, 5]\n",
        "negativos = list(filter(lambda x: x < 0, lista))\n",
        "print(negativos)"
      ],
      "metadata": {
        "colab": {
          "base_uri": "https://localhost:8080/"
        },
        "id": "0qt2S1XJZBxG",
        "outputId": "0c5a05ee-9b48-4ba8-9dcf-e6983c371edd"
      },
      "execution_count": 4,
      "outputs": [
        {
          "output_type": "stream",
          "name": "stdout",
          "text": [
            "[-5, -4, -3, -2, -1]\n"
          ]
        }
      ]
    },
    {
      "cell_type": "code",
      "source": [
        "#27 Use uma função lambda para converter todos os números de uma lista para seus valores absolutos.\n",
        "\n",
        "lista = [-5,-3,-1,2,4]\n",
        "absoluto = list(map(lambda x: abs(x), lista))\n",
        "print(absoluto)\n"
      ],
      "metadata": {
        "colab": {
          "base_uri": "https://localhost:8080/"
        },
        "id": "7FvFm1s9adk9",
        "outputId": "c2366fdd-60b2-41ec-fcaf-9a8b4c579201"
      },
      "execution_count": null,
      "outputs": [
        {
          "output_type": "stream",
          "name": "stdout",
          "text": [
            "[5, 3, 1, 2, 4]\n"
          ]
        }
      ]
    },
    {
      "cell_type": "code",
      "source": [
        "#28 Use uma função lambda para retornar uma lista com o resto da divisão de cada elemento por 3.\n",
        "\n",
        "lista = [1,2,3,4,5,6,7,8,9,10]\n",
        "sobra = list(map(lambda x: x % 3, lista))\n",
        "print(sobra)"
      ],
      "metadata": {
        "colab": {
          "base_uri": "https://localhost:8080/"
        },
        "id": "82TGiACJbjQz",
        "outputId": "62566ba3-373d-4d60-c8d4-e5ba9c3082dd"
      },
      "execution_count": null,
      "outputs": [
        {
          "output_type": "stream",
          "name": "stdout",
          "text": [
            "[1, 2, 0, 1, 2, 0, 1, 2, 0, 1]\n"
          ]
        }
      ]
    },
    {
      "cell_type": "code",
      "source": [
        "#29 Dada uma lista de números, use uma função lambda para multiplicar cada elemento pelo seu índice.\n",
        "\n",
        "lista = [1,3,5,8,9]\n",
        "multiplicaçao = list(map(lambda x, y: x*y, lista , range(len(lista))))\n",
        "print(multiplicaçao)"
      ],
      "metadata": {
        "colab": {
          "base_uri": "https://localhost:8080/"
        },
        "id": "eQlbW0zEi0D7",
        "outputId": "7927c913-eaf7-40b4-cae4-769b633c9360"
      },
      "execution_count": null,
      "outputs": [
        {
          "output_type": "stream",
          "name": "stdout",
          "text": [
            "[0, 3, 10, 24, 36]\n"
          ]
        }
      ]
    },
    {
      "cell_type": "code",
      "source": [
        "#30 Use uma função lambda para verificar se uma palavra dada é um palíndromo (retornando True ou False).\n",
        "\n",
        "palindromo = lambda x: x.lower() == x.lower()[::-1]\n",
        "x = \"ovo\"\n",
        "result = palindromo(x)\n",
        "print(result)"
      ],
      "metadata": {
        "colab": {
          "base_uri": "https://localhost:8080/"
        },
        "id": "W0Or6sS-kj5A",
        "outputId": "8e9e8201-e49e-4894-e1c8-4769e7b668bd"
      },
      "execution_count": null,
      "outputs": [
        {
          "output_type": "stream",
          "name": "stdout",
          "text": [
            "True\n"
          ]
        }
      ]
    }
  ]
}
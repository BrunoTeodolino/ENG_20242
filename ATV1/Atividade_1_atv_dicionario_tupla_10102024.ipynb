{
  "nbformat": 4,
  "nbformat_minor": 0,
  "metadata": {
    "colab": {
      "provenance": [],
      "authorship_tag": "ABX9TyMSj+bAlOUiL70ljxwyPHMq",
      "include_colab_link": true
    },
    "kernelspec": {
      "name": "python3",
      "display_name": "Python 3"
    },
    "language_info": {
      "name": "python"
    }
  },
  "cells": [
    {
      "cell_type": "markdown",
      "metadata": {
        "id": "view-in-github",
        "colab_type": "text"
      },
      "source": [
        "<a href=\"https://colab.research.google.com/github/BrunoTeodolino/ENG_20242/blob/main/ATV1/Atividade_1_atv_dicionario_tupla_10102024.ipynb\" target=\"_parent\"><img src=\"https://colab.research.google.com/assets/colab-badge.svg\" alt=\"Open In Colab\"/></a>"
      ]
    },
    {
      "cell_type": "markdown",
      "source": [
        "Atividade 1\\atv_dicionario_tupla_10102024.ipynb"
      ],
      "metadata": {
        "id": "i7Jfjkhb4c6h"
      }
    },
    {
      "cell_type": "code",
      "execution_count": null,
      "metadata": {
        "colab": {
          "base_uri": "https://localhost:8080/"
        },
        "id": "KkvvYyVh4Vzy",
        "outputId": "e03f1b2e-6133-49a5-c75f-41b93ea12cae"
      },
      "outputs": [
        {
          "output_type": "stream",
          "name": "stdout",
          "text": [
            "Belo Horizonte\n"
          ]
        }
      ],
      "source": [
        "#1 Crie uma tupla chamada cidades que contenha os nomes de cinco cidades. Imprima a terceira cidade.\n",
        "\n",
        "cidades = (\"São Paulo\", \"Rio de Janeiro\", \"Belo Horizonte\", \"Brasília\", \"Salvador\")\n",
        "print(cidades[2])\n"
      ]
    },
    {
      "cell_type": "code",
      "source": [
        "#2 Crie uma tupla chamada numeros com os seguintes valores: (1, 2, 3, 1, 4, 1). Utilize o método count() para contar quantas vezes o número 1 aparece na tupla.\n",
        "\n",
        "numeros = (1, 2, 3, 1, 4, 1)\n",
        "print(numeros.count(1))"
      ],
      "metadata": {
        "colab": {
          "base_uri": "https://localhost:8080/"
        },
        "id": "6JKYCpLE5ELs",
        "outputId": "15d0f9dd-e607-4958-a357-9e6b8c4493e6"
      },
      "execution_count": null,
      "outputs": [
        {
          "output_type": "stream",
          "name": "stdout",
          "text": [
            "3\n"
          ]
        }
      ]
    },
    {
      "cell_type": "code",
      "source": [
        "#3 Crie uma tupla chamada animais com os seguintes valores: ('cachorro', 'gato', 'pássaro'). Verifique se 'gato' está na tupla e imprima uma mensagem informando o resultado.\n",
        "\n",
        "animais = ('cachorro', 'gato', 'pássaro')\n",
        "if 'gato' in animais:\n",
        "  print(\"gato está na lista\")\n",
        "else:\n",
        "  print(\"gato não esta na lista\")"
      ],
      "metadata": {
        "colab": {
          "base_uri": "https://localhost:8080/"
        },
        "id": "9oy7umsh5bu5",
        "outputId": "b002b594-7c17-46ac-bfd0-555f24d5e85f"
      },
      "execution_count": null,
      "outputs": [
        {
          "output_type": "stream",
          "name": "stdout",
          "text": [
            "gato está na lista\n"
          ]
        }
      ]
    },
    {
      "cell_type": "code",
      "source": [
        "#4 Dada a tupla meses = ('janeiro', 'fevereiro', 'março', 'abril', 'maio'), encontre e imprima o índice do mês 'abril'.\n",
        "\n",
        "meses = ('janeiro', 'fevereiro', 'março', 'abril', 'maio')\n",
        "print(meses.index('abril'))\n",
        "\n"
      ],
      "metadata": {
        "colab": {
          "base_uri": "https://localhost:8080/"
        },
        "id": "J7EjlJX06COS",
        "outputId": "2b25ab10-b609-413d-9e39-84bfa9072f08"
      },
      "execution_count": null,
      "outputs": [
        {
          "output_type": "stream",
          "name": "stdout",
          "text": [
            "3\n"
          ]
        }
      ]
    },
    {
      "cell_type": "code",
      "source": [
        "#5 Crie uma tupla chamada coordenadas que armazene a latitude e longitude de um local (ex: (-23.5505, -46.6333)). Imprima a latitude e a longitude separadamente.\n",
        "\n",
        "coordenadas = (-23.5505, -46.6333)\n",
        "print(coordenadas[0])\n",
        "print(coordenadas[1])\n"
      ],
      "metadata": {
        "colab": {
          "base_uri": "https://localhost:8080/"
        },
        "id": "xDpXmdit6Pcl",
        "outputId": "8a684327-7987-49b7-eeea-76505610e84d"
      },
      "execution_count": null,
      "outputs": [
        {
          "output_type": "stream",
          "name": "stdout",
          "text": [
            "-23.5505\n",
            "-46.6333\n"
          ]
        }
      ]
    },
    {
      "cell_type": "code",
      "source": [
        "#6 Crie um dicionário chamado carro com as chaves marca, modelo e ano. Atribua valores de sua escolha e imprima o modelo do carro.\n",
        "\n",
        "carro = {\n",
        "    \"marca\":\"toyota\"\n",
        "    ,\"modelo\":\"corolla\"\n",
        "    ,\"ano\":2022\n",
        "}\n",
        "print(carro[\"modelo\"])\n"
      ],
      "metadata": {
        "id": "Ad9A6iOT6eOT",
        "colab": {
          "base_uri": "https://localhost:8080/"
        },
        "outputId": "1eb6f93f-b6a4-4f8f-f067-3ecbf53b9e7b"
      },
      "execution_count": null,
      "outputs": [
        {
          "output_type": "stream",
          "name": "stdout",
          "text": [
            "corolla\n"
          ]
        }
      ]
    },
    {
      "cell_type": "code",
      "source": [
        "#7 Use o dicionário carro que você criou no exercício anterior. Adicione uma nova chave chamada cor e atribua uma cor ao carro. Em seguida, imprima o dicionário completo.\n",
        "carro[\"cor\"] = \"prata\"\n",
        "print(carro)"
      ],
      "metadata": {
        "colab": {
          "base_uri": "https://localhost:8080/"
        },
        "id": "EwQLkFveDfKU",
        "outputId": "c62dfbf7-ebc9-419c-c288-c10027da569a"
      },
      "execution_count": null,
      "outputs": [
        {
          "output_type": "stream",
          "name": "stdout",
          "text": [
            "{'marca': 'toyota', 'modelo': 'corolla', 'ano': 2022, 'cor': 'prata'}\n"
          ]
        }
      ]
    },
    {
      "cell_type": "code",
      "source": [
        "#8 Dado o dicionário pessoa = {'nome': 'João', 'idade': 30, 'cidade': 'São Paulo'}, remova a chave idade e imprima o dicionário resultante.\n",
        "pessoa = {\n",
        "    \"nome\": \"Bruno\"\n",
        "    ,\"idade\" : \"22\"\n",
        "    ,\"cidade\" : \"vila velha\"\n",
        "}\n",
        "\n",
        "pessoa.pop(\"idade\")\n",
        "print(pessoa)"
      ],
      "metadata": {
        "colab": {
          "base_uri": "https://localhost:8080/"
        },
        "id": "cHk9Q7m7Ey-c",
        "outputId": "319da32f-0111-4114-bdbd-a5a59a506b46"
      },
      "execution_count": null,
      "outputs": [
        {
          "output_type": "stream",
          "name": "stdout",
          "text": [
            "{'nome': 'Bruno', 'cidade': 'vila velha'}\n"
          ]
        }
      ]
    },
    {
      "cell_type": "code",
      "source": [
        "#9 Crie um dicionário chamado produto que contenha nome, preco e quantidade. Use um loop for para imprimir todos os pares chave/valor.\n",
        "\n",
        "produto = {\n",
        "    \"nome\": \"biscoito\"\n",
        "    ,\"preço\": \"4.90\"\n",
        "    ,\"quantidade\": \"50\"\n",
        "}\n",
        "\n",
        "for chave, valor in produto.items():\n",
        "  print(f\"{chave}: {valor}\")"
      ],
      "metadata": {
        "colab": {
          "base_uri": "https://localhost:8080/"
        },
        "id": "u4ToQk6MF_kq",
        "outputId": "4985cf60-f0ac-4c48-efce-77132111093e"
      },
      "execution_count": null,
      "outputs": [
        {
          "output_type": "stream",
          "name": "stdout",
          "text": [
            "nome: biscoito\n",
            "preço: 4.90\n",
            "quantidade: 50\n"
          ]
        }
      ]
    },
    {
      "cell_type": "code",
      "source": [
        "#10 Dado o dicionário estudante = {'nome': 'Maria', 'curso': 'Biologia', 'ano': 2}, verifique se a chave curso existe. Se existir, imprima \"A estudante está no curso de Biologia.\"\n",
        "\n",
        "estudante = {\n",
        "    \"nome\": \"Maria\"\n",
        "    ,\"curso\": \"Biologia\"\n",
        "    ,\"ano\": 2\n",
        "}\n",
        "\n",
        "if \"curso\" in estudante:\n",
        "  print(\"A estudante está no curso de Biologia\")\n",
        "else:\n",
        "  print(\"A estudante não está no curso de Biologia\")"
      ],
      "metadata": {
        "id": "f_DKnNKhGu9q"
      },
      "execution_count": null,
      "outputs": []
    }
  ]
}
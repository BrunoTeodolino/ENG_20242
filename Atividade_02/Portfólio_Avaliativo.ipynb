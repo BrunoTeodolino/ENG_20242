{
  "nbformat": 4,
  "nbformat_minor": 0,
  "metadata": {
    "colab": {
      "provenance": [],
      "authorship_tag": "ABX9TyO9DUArLvNK4cBgbzcsO0ei",
      "include_colab_link": true
    },
    "kernelspec": {
      "name": "python3",
      "display_name": "Python 3"
    },
    "language_info": {
      "name": "python"
    }
  },
  "cells": [
    {
      "cell_type": "markdown",
      "metadata": {
        "id": "view-in-github",
        "colab_type": "text"
      },
      "source": [
        "<a href=\"https://colab.research.google.com/github/BrunoTeodolino/ENG_20242/blob/main/Atividade_02/Portf%C3%B3lio_Avaliativo.ipynb\" target=\"_parent\"><img src=\"https://colab.research.google.com/assets/colab-badge.svg\" alt=\"Open In Colab\"/></a>"
      ]
    },
    {
      "cell_type": "code",
      "execution_count": null,
      "metadata": {
        "id": "gP1lfFS2oJar",
        "colab": {
          "base_uri": "https://localhost:8080/"
        },
        "outputId": "557b4a70-99c7-42ab-ec8c-2171cc4ac369"
      },
      "outputs": [
        {
          "output_type": "stream",
          "name": "stdout",
          "text": [
            "[3, 5, 7, 9]\n"
          ]
        }
      ],
      "source": [
        "#1. Crie uma função que receba uma lista de números e retorne uma lista contendo apenas os números ímpares.\n",
        "\n",
        "def numeros_impares(lista):\n",
        "    impares = []\n",
        "    for numero in lista:\n",
        "      if numero % 2 != 0:\n",
        "        impares.append(numero)\n",
        "    return impares\n",
        "\n",
        "numeros = [ 2, 3, 4, 5, 6, 7, 8, 9, 10]\n",
        "impares = numeros_impares(numeros)\n",
        "print(impares)\n",
        "\n"
      ]
    },
    {
      "cell_type": "code",
      "source": [
        "#2. Escreva uma função que receba uma lista e retorne uma nova lista com o dobro de cada elemento.\n",
        "\n",
        "def dobro_lista(lista):\n",
        "  dobro = []\n",
        "  for numero in lista:\n",
        "    dobro.append(numero * 2)\n",
        "  return dobro\n",
        "\n",
        "numeros = [1,2,3,4,5]\n",
        "dobrados = dobro_lista(numeros)\n",
        "print(dobrados)\n"
      ],
      "metadata": {
        "colab": {
          "base_uri": "https://localhost:8080/"
        },
        "id": "ftKIEsEzrAB4",
        "outputId": "4d598569-938d-4e46-8a9a-d509a4e60936"
      },
      "execution_count": null,
      "outputs": [
        {
          "output_type": "stream",
          "name": "stdout",
          "text": [
            "[2, 4, 6, 8, 10]\n"
          ]
        }
      ]
    },
    {
      "cell_type": "code",
      "source": [
        "#3. Faça uma função que receba uma lista e retorne uma lista sem duplicatas.\n",
        "\n",
        "def remover_duplicatas(lista):\n",
        "  return list(dict.fromkeys(lista))\n",
        "\n",
        "numeros = [1,2,3,5,1,6,2,5,6,4]\n",
        "sem_duplicatas = remover_duplicatas(numeros)\n",
        "print(sem_duplicatas)"
      ],
      "metadata": {
        "colab": {
          "base_uri": "https://localhost:8080/"
        },
        "id": "Hj3FtoOcwhZ_",
        "outputId": "f3a98f50-bda2-463f-fbde-8f414d52fe12"
      },
      "execution_count": null,
      "outputs": [
        {
          "output_type": "stream",
          "name": "stdout",
          "text": [
            "[1, 2, 3, 5, 6, 4]\n"
          ]
        }
      ]
    },
    {
      "cell_type": "code",
      "source": [
        "#4. Crie uma função que receba uma lista e um valor divisor e retorne uma lista dos elementos que são divisíveis pelo divisor.\n",
        "\n",
        "def numeros_divisor(lista, divisor):\n",
        "  nova_lista = []\n",
        "  for numero in lista:\n",
        "    if numero % divisor == 0:\n",
        "      nova_lista.append(numero)\n",
        "  return nova_lista\n",
        "\n",
        "numeros = [1,2,3,4,5,6]\n",
        "divisor = 3\n",
        "\n",
        "resultado = numeros_divisor(numeros, divisor)\n",
        "print(resultado)\n"
      ],
      "metadata": {
        "colab": {
          "base_uri": "https://localhost:8080/"
        },
        "id": "MMyvi7CVywms",
        "outputId": "1f795cdf-982e-4382-a5af-5dbbd8f378ac"
      },
      "execution_count": null,
      "outputs": [
        {
          "output_type": "stream",
          "name": "stdout",
          "text": [
            "[3, 6]\n"
          ]
        }
      ]
    },
    {
      "cell_type": "code",
      "source": [
        "#5. Escreva uma função que receba duas listas e retorne um conjunto com os elementos que aparecem em ambas.\n",
        "\n",
        "def elementos_comuns(lista1, lista2):\n",
        "  conjunto1 = set(lista1)\n",
        "  conjunto2 = set(lista2)\n",
        "  elementos_comuns = conjunto1.intersection(conjunto2)\n",
        "  return elementos_comuns\n",
        "\n",
        "\n",
        "lista1 = [1,2,3,4,5,6]\n",
        "lista2 = [1,5,8,9,2,8,3]\n",
        "\n",
        "comuns = elementos_comuns(lista1, lista2)\n",
        "print(comuns)"
      ],
      "metadata": {
        "colab": {
          "base_uri": "https://localhost:8080/"
        },
        "id": "pG2VUv1v5qQC",
        "outputId": "5e09a3c5-31b0-4132-b4f1-f47cf474a7f0"
      },
      "execution_count": null,
      "outputs": [
        {
          "output_type": "stream",
          "name": "stdout",
          "text": [
            "{1, 2, 3, 5}\n"
          ]
        }
      ]
    },
    {
      "cell_type": "code",
      "source": [
        "#6. Crie uma função que receba uma lista e retorne uma nova lista com os elementos em ordem inversa.\n",
        "\n",
        "def ordem_inversa(lista):\n",
        "  return lista[::-1]\n",
        "\n",
        "numero = [1,2,3,4,5]\n",
        "invertidos = ordem_inversa(numero)\n",
        "\n",
        "print(invertidos)\n"
      ],
      "metadata": {
        "colab": {
          "base_uri": "https://localhost:8080/"
        },
        "id": "VseZOi5Edj9a",
        "outputId": "4327d2e4-6041-4f4e-cd99-0ccf651408ed"
      },
      "execution_count": null,
      "outputs": [
        {
          "output_type": "stream",
          "name": "stdout",
          "text": [
            "[5, 4, 3, 2, 1]\n"
          ]
        }
      ]
    },
    {
      "cell_type": "code",
      "source": [
        "#7. Escreva uma função que receba uma lista de números e retorne uma lista contendo o quadrado de cada número.\n",
        "\n",
        "def quadrado_dos_numeros(lista):\n",
        "  quadrado = []\n",
        "  for numero in lista:\n",
        "    quadrado.append(numero ** 2)\n",
        "  return quadrado\n",
        "\n",
        "numeros = [1,2,3,4,5]\n",
        "\n",
        "resultado = quadrado_dos_numeros(numeros)\n",
        "\n",
        "print(resultado)\n"
      ],
      "metadata": {
        "colab": {
          "base_uri": "https://localhost:8080/"
        },
        "id": "xvIt-Wgieu_y",
        "outputId": "f5679bf4-d6cd-4514-bec9-576096016e87"
      },
      "execution_count": null,
      "outputs": [
        {
          "output_type": "stream",
          "name": "stdout",
          "text": [
            "[1, 4, 9, 16, 25]\n"
          ]
        }
      ]
    },
    {
      "cell_type": "code",
      "source": [
        "#8. Crie uma função que receba uma lista e um valor, e retorne uma lista com os elementos maiores que esse valor.\n",
        "\n",
        "def elementos_maiores(lista, valor):\n",
        "  nova_lista = []\n",
        "  for numero in lista:\n",
        "    if numero > valor:\n",
        "      nova_lista.append(numero)\n",
        "  return nova_lista\n",
        "\n",
        "\n",
        "numeros = [1,5,10,2,8,3]\n",
        "\n",
        "valor_limite = 5\n",
        "resultado = elementos_maiores(numeros, valor_limite)\n",
        "\n",
        "print(resultado)\n",
        "\n"
      ],
      "metadata": {
        "colab": {
          "base_uri": "https://localhost:8080/"
        },
        "id": "OThvpPxXhv8V",
        "outputId": "884d3b85-dcb4-465d-ae2b-cce0a5d97978"
      },
      "execution_count": null,
      "outputs": [
        {
          "output_type": "stream",
          "name": "stdout",
          "text": [
            "[10, 8]\n"
          ]
        }
      ]
    },
    {
      "cell_type": "code",
      "source": [
        "#9. Escreva uma função que receba duas listas e retorne uma lista dos elementos que estão em apenas uma das listas.\n",
        "\n",
        "def elemnetos_exclusivos(lista1, lista2):\n",
        "  exclusivos = []\n",
        "  for elemento in lista1:\n",
        "    if elemento not in lista2:\n",
        "      exclusivos.append(elemento)\n",
        "  for elemento in lista2:\n",
        "    if elemento not in lista1:\n",
        "      exclusivos.append(elemento)\n",
        "\n",
        "  return exclusivos\n",
        "\n",
        "\n",
        "lista1 = [1,2,3,4,5]\n",
        "lista2 = [3,4,5,6,7]\n",
        "\n",
        "resultado = elemnetos_exclusivos(lista1, lista2)\n",
        "\n",
        "print(resultado)"
      ],
      "metadata": {
        "id": "_hUZvjahzz2m",
        "colab": {
          "base_uri": "https://localhost:8080/"
        },
        "outputId": "ed72623a-a8f3-4256-8146-98540e9b3939"
      },
      "execution_count": null,
      "outputs": [
        {
          "output_type": "stream",
          "name": "stdout",
          "text": [
            "[1, 2, 6, 7]\n"
          ]
        }
      ]
    },
    {
      "cell_type": "code",
      "source": [
        "#10. Faça uma função que receba uma lista e retorne um conjunto dos elementos únicos.\n",
        "\n",
        "def elementos_unicos(lista):\n",
        "  return set(lista)  #set não permite números repetidos - afirmação do Gustavo\n",
        "\n",
        "numeros = [1,2,2,6,5,5,6,4,2,3,1]\n",
        "unicos = elementos_unicos(numeros)\n",
        "\n",
        "print(unicos)"
      ],
      "metadata": {
        "colab": {
          "base_uri": "https://localhost:8080/"
        },
        "id": "imPnM4J9wUQX",
        "outputId": "bb46a6a5-165f-4c47-a4e7-ccb119c35eab"
      },
      "execution_count": null,
      "outputs": [
        {
          "output_type": "stream",
          "name": "stdout",
          "text": [
            "{1, 2, 3, 4, 5, 6}\n"
          ]
        }
      ]
    },
    {
      "cell_type": "code",
      "source": [
        "#11. Crie uma função que receba duas listas e retorne uma lista dos elementos únicos que estão em ambas.\n",
        "\n",
        "def elementos_unicos(lista1 , lista2):\n",
        "  numeros1 = set(lista1)\n",
        "  numeros2 = set(lista2)\n",
        "\n",
        "  elementos = numeros1.symmetric_difference(numeros2)\n",
        "  return list(elementos)\n",
        "\n",
        "lista1 = [9,8,7,6,5,4]\n",
        "lista2 = [6,5,4,3,2,1]\n",
        "\n",
        "unicos = elementos_unicos(lista1, lista2)\n",
        "print(unicos)\n",
        "\n"
      ],
      "metadata": {
        "colab": {
          "base_uri": "https://localhost:8080/"
        },
        "id": "OiL2QIhHw-mS",
        "outputId": "59753a7d-b6b0-4cd0-f30f-0d4f8a574689"
      },
      "execution_count": null,
      "outputs": [
        {
          "output_type": "stream",
          "name": "stdout",
          "text": [
            "[1, 2, 3, 7, 8, 9]\n"
          ]
        }
      ]
    },
    {
      "cell_type": "code",
      "source": [
        "#12 Escreva uma função que receba uma lista e retorne uma lista contendo os elementos que aparecem mais de uma vez.\n",
        "\n",
        "def itens_repetidos(lista):\n",
        "  repetidos = []\n",
        "  for item in lista:\n",
        "    if lista.count(item) > 1:\n",
        "      if item not in repetidos:\n",
        "        repetidos.append(item)\n",
        "\n",
        "  return repetidos\n",
        "\n",
        "numeros = [1,2,5,4,2,3,1,5,3,9,8,5,6,4]\n",
        "numeros_repetidos = itens_repetidos(numeros)\n",
        "print(numeros_repetidos)\n",
        "\n",
        "\n"
      ],
      "metadata": {
        "colab": {
          "base_uri": "https://localhost:8080/"
        },
        "id": "uTe-Yn9F1cPj",
        "outputId": "42a22d25-9d47-4f5b-c551-86d3ae69c02f"
      },
      "execution_count": null,
      "outputs": [
        {
          "output_type": "stream",
          "name": "stdout",
          "text": [
            "[1, 2, 5, 4, 3]\n"
          ]
        }
      ]
    },
    {
      "cell_type": "code",
      "source": [
        "#13. Faça uma função que receba uma lista de números e retorne uma lista dos números pares.\n",
        "\n",
        "def numeros_pares(lista):\n",
        "    pares = []\n",
        "    for numero in lista:\n",
        "      if numero % 2 == 0:\n",
        "        pares.append(numero)\n",
        "    return pares\n",
        "\n",
        "numeros = [ 2, 3, 4, 5, 6, 7, 8, 9, 10]\n",
        "pares = numeros_pares(numeros)\n",
        "print(pares)"
      ],
      "metadata": {
        "colab": {
          "base_uri": "https://localhost:8080/"
        },
        "id": "4YO8_0aH2NJi",
        "outputId": "6c9b6c38-b616-49c5-f1fc-ff759f902775"
      },
      "execution_count": null,
      "outputs": [
        {
          "output_type": "stream",
          "name": "stdout",
          "text": [
            "[2, 4, 6, 8, 10]\n"
          ]
        }
      ]
    },
    {
      "cell_type": "code",
      "source": [
        "#14. Escreva uma função que receba uma lista de números e um valor, e retorne uma lista com os índices dos elementos maiores que o valor.\n",
        "\n",
        "def indices_maiores(lista, valor):\n",
        "  indice = []\n",
        "  for i in range(len(lista)):\n",
        "    if lista[i] > valor:\n",
        "      indice.append(i)\n",
        "  return indice\n",
        "\n",
        "\n",
        "numeros = [1,5,10,2,8,3]\n",
        "\n",
        "valor_limite = 5\n",
        "resultado = indices_maiores(numeros, valor_limite)\n",
        "\n",
        "print(resultado)\n"
      ],
      "metadata": {
        "colab": {
          "base_uri": "https://localhost:8080/"
        },
        "id": "Ksv_Gdz-2yOy",
        "outputId": "f8d9727d-98c8-46fc-c527-009eab893a2f"
      },
      "execution_count": null,
      "outputs": [
        {
          "output_type": "stream",
          "name": "stdout",
          "text": [
            "[2, 4]\n"
          ]
        }
      ]
    },
    {
      "cell_type": "code",
      "source": [
        "#15. Crie uma função que receba uma lista de strings e retorne uma lista com o tamanho de cada string.\n",
        "\n",
        "def tamanho_string(lista):\n",
        "\n",
        "  tamanho = []\n",
        "  for string in lista:\n",
        "    tamanho.append(len(string))\n",
        "  return tamanho\n",
        "\n",
        "strings = ['Bruno' , 'Enrrique' , 'Teodolino' , 'Israel']\n",
        "tamanhos = tamanho_string(strings)\n",
        "print(tamanhos)\n",
        "\n",
        "\n"
      ],
      "metadata": {
        "colab": {
          "base_uri": "https://localhost:8080/"
        },
        "id": "p20pJm0g5cvD",
        "outputId": "62035196-7338-4e83-d058-5698f3290eb3"
      },
      "execution_count": null,
      "outputs": [
        {
          "output_type": "stream",
          "name": "stdout",
          "text": [
            "[5, 8, 9, 6]\n"
          ]
        }
      ]
    },
    {
      "cell_type": "code",
      "source": [
        "#16. Escreva uma função que receba uma lista de números e retorne uma lista contendo cada número elevado ao cubo.\n",
        "\n",
        "def cubo_numeros(lista):\n",
        "  cubo = []\n",
        "  for numero in lista:\n",
        "    cubo.append(numero ** 3)\n",
        "  return cubo\n",
        "\n",
        "numeros = [1,2,3,4,5]\n",
        "resposta = cubo_numeros(numeros)\n",
        "print(resposta)\n",
        "\n"
      ],
      "metadata": {
        "colab": {
          "base_uri": "https://localhost:8080/"
        },
        "id": "-7kSpzWu64NA",
        "outputId": "ec02d45d-8490-47db-e43b-ae7113f9fe6b"
      },
      "execution_count": null,
      "outputs": [
        {
          "output_type": "stream",
          "name": "stdout",
          "text": [
            "[1, 8, 27, 64, 125]\n"
          ]
        }
      ]
    },
    {
      "cell_type": "code",
      "source": [
        "#17. Crie uma função que receba uma lista e retorne uma lista de todos os elementos únicos.\n",
        "\n",
        "def elementos_unicos(lista):\n",
        "  return list(set(lista))\n",
        "\n",
        "numeros = [1,2,2,6,5,5,6,4,2,3,1]\n",
        "unicos = elementos_unicos(numeros)\n",
        "\n",
        "print(unicos)"
      ],
      "metadata": {
        "colab": {
          "base_uri": "https://localhost:8080/"
        },
        "id": "EpPKwiI27xM2",
        "outputId": "a736e1ce-5927-4047-92af-ffb22ea608b0"
      },
      "execution_count": 1,
      "outputs": [
        {
          "output_type": "stream",
          "name": "stdout",
          "text": [
            "[1, 2, 3, 4, 5, 6]\n"
          ]
        }
      ]
    },
    {
      "cell_type": "code",
      "source": [
        "#18. Escreva uma função que receba uma lista de strings e retorne uma lista contendo as strings que começam com uma letra maiúscula.\n",
        "\n",
        "def letra_maiuscula(lista):\n",
        "  maiuscula = []\n",
        "  for string in lista:\n",
        "    if string[0].isupper():\n",
        "      maiuscula.append(string)\n",
        "  return maiuscula\n",
        "\n",
        "\n",
        "strings = [\"Olá\", \"mundo\", \"Python\", \"é\", \"legal\"]\n",
        "strings_maiusculas = letra_maiuscula(strings)\n",
        "print(strings_maiusculas)"
      ],
      "metadata": {
        "colab": {
          "base_uri": "https://localhost:8080/"
        },
        "id": "cVe2XL2E_9J1",
        "outputId": "dbbd8158-f5d8-4598-fc46-fc4bc497ecb3"
      },
      "execution_count": null,
      "outputs": [
        {
          "output_type": "stream",
          "name": "stdout",
          "text": [
            "['Olá', 'Python']\n"
          ]
        }
      ]
    },
    {
      "cell_type": "code",
      "source": [
        "#19. Faça uma função que receba uma lista de números e retorne uma lista contendo apenas os múltiplos de 3.\n",
        "\n",
        "def multiplos_3(lista):\n",
        "  multiplos = []\n",
        "  for numero in lista:\n",
        "    if numero % 3 == 0:\n",
        "      multiplos.append(numero)\n",
        "  return multiplos\n",
        "\n",
        "numeros = [1,2,3,4,5,6,7,8,9,10,11,12]\n",
        "resultado = multiplos_3(numeros)\n",
        "print(resultado)\n"
      ],
      "metadata": {
        "colab": {
          "base_uri": "https://localhost:8080/"
        },
        "id": "ZRN3a5j3Arey",
        "outputId": "c8937577-a43c-4fb5-e688-a0051ae63c0f"
      },
      "execution_count": null,
      "outputs": [
        {
          "output_type": "stream",
          "name": "stdout",
          "text": [
            "[3, 6, 9, 12]\n"
          ]
        }
      ]
    },
    {
      "cell_type": "code",
      "source": [
        "#20. Escreva uma função que receba duas listas e retorne uma lista com a interseção ordenada de forma crescente entre elas.\n",
        "\n",
        "def intersecao_ordenada(lista1, lista2):\n",
        "  conjunto1 = set(lista1)\n",
        "  conjunto2 = set(lista2)\n",
        "  intersecao = conjunto1.intersection(conjunto2)\n",
        "  lista_intersecao = list(intersecao)\n",
        "  lista_intersecao.sort()\n",
        "  return lista_intersecao\n",
        "\n",
        "lista1 = [1, 2, 3, 4, 5, 6]\n",
        "lista2 = [1, 5, 8, 9, 2, 8, 3]\n",
        "\n",
        "resultado = intersecao_ordenada(lista1, lista2)\n",
        "print(resultado)"
      ],
      "metadata": {
        "colab": {
          "base_uri": "https://localhost:8080/"
        },
        "id": "N6INuQO2BXgZ",
        "outputId": "c9ede258-ca42-41c8-ec92-3a499b724f2d"
      },
      "execution_count": null,
      "outputs": [
        {
          "output_type": "stream",
          "name": "stdout",
          "text": [
            "[1, 2, 3, 5]\n"
          ]
        }
      ]
    }
  ]
}